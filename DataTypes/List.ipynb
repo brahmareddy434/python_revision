{
 "cells": [
  {
   "attachments": {},
   "cell_type": "markdown",
   "metadata": {},
   "source": [
    "# Lists\n",
    "\n",
    "`syntax::`mylist=[\"apple\",\"banana\",\"cherry\"]"
   ]
  },
  {
   "attachments": {},
   "cell_type": "markdown",
   "metadata": {},
   "source": [
    "List::<br>\n",
    "-------<br>\n",
    "Lists are used to store multiple items in a single variable.<br>\n",
    "Lists are one of 4 built in data types in python used to store collections of data,the other 3 are 'tuple','Set',and 'Dictionary'.all with different qualities and usage.<br>\n",
    "Lists are created using square brackets:\n",
    "<br>"
   ]
  },
  {
   "cell_type": "code",
   "execution_count": 1,
   "metadata": {},
   "outputs": [
    {
     "name": "stdout",
     "output_type": "stream",
     "text": [
      "['apple', 'mango', 'cherry']\n"
     ]
    }
   ],
   "source": [
    "# create a list:\n",
    "thislist=[\"apple\",\"mango\",\"cherry\"]\n",
    "print(thislist)"
   ]
  },
  {
   "attachments": {},
   "cell_type": "markdown",
   "metadata": {},
   "source": [
    "### List items\n",
    "List items are ordered ,changeable,and allow duplicate values.\n",
    "<br>List items are indexed,the first item ihas index [0],the second item has index [1] etc...\n",
    "### ordered\n",
    "When we say that lists are ordered ,it means that the items have a defined order,and theat order will not change.<br>\n",
    "If you add new items to list,the new items will be placed  at the end of list.append<br>\n",
    "`note`:There are some list methods that will change the order ,but in general:the order of the items will not change.\n",
    "### Changeable\n",
    "The list is changeable ,meaning that we can change,add,and remove items in a list after it has been created.\n",
    "### Allow duplicates\n",
    "Since lists are indexed ,lists can hava items with the same value"
   ]
  },
  {
   "cell_type": "code",
   "execution_count": 3,
   "metadata": {},
   "outputs": [
    {
     "name": "stdout",
     "output_type": "stream",
     "text": [
      "['apple', 'banana', 'cherry', 'apple', 'cherry']\n"
     ]
    }
   ],
   "source": [
    "# lists allow duplicate values:\n",
    "thislist=[\"apple\",\"banana\",\"cherry\",\"apple\",\"cherry\"]\n",
    "print(thislist)"
   ]
  },
  {
   "attachments": {},
   "cell_type": "markdown",
   "metadata": {},
   "source": [
    "### List Length\n",
    "To Determine how many items a list has ,use the len() function:"
   ]
  },
  {
   "cell_type": "code",
   "execution_count": 4,
   "metadata": {},
   "outputs": [
    {
     "name": "stdout",
     "output_type": "stream",
     "text": [
      "3\n"
     ]
    }
   ],
   "source": [
    "thislist=[\"apple\",\"mango\",\"cherry\"]\n",
    "len=len(thislist)\n",
    "print(len)"
   ]
  },
  {
   "attachments": {},
   "cell_type": "markdown",
   "metadata": {},
   "source": [
    "### List Items Data types:\n",
    "List items can be of any data type:\n"
   ]
  },
  {
   "cell_type": "code",
   "execution_count": 5,
   "metadata": {},
   "outputs": [
    {
     "name": "stdout",
     "output_type": "stream",
     "text": [
      "['apple', 'cherry']\n",
      "[1, 2, 3, 4, 5, 6]\n",
      "[True, False]\n"
     ]
    }
   ],
   "source": [
    "# String,int,boolean data types:\n",
    "list1=[\"apple\",\"cherry\"]\n",
    "list2=[1,2,3,4,5,6]\n",
    "list3=[True,False]\n",
    "print(list1)\n",
    "print(list2)\n",
    "print(list3)"
   ]
  },
  {
   "attachments": {},
   "cell_type": "markdown",
   "metadata": {},
   "source": [
    "`note`:A list can contain different data types:"
   ]
  },
  {
   "cell_type": "code",
   "execution_count": 6,
   "metadata": {},
   "outputs": [
    {
     "name": "stdout",
     "output_type": "stream",
     "text": [
      "['apple', 1, True]\n"
     ]
    }
   ],
   "source": [
    "# A list with strings,integers,and booleans values::\n",
    "list5=[\"apple\",1,True]\n",
    "print(list5)"
   ]
  },
  {
   "attachments": {},
   "cell_type": "markdown",
   "metadata": {},
   "source": [
    "### Type()\n",
    "From Python's perspective ,lists ar defined with the datatype list:\n",
    "<class,'listl'>"
   ]
  },
  {
   "cell_type": "code",
   "execution_count": 7,
   "metadata": {},
   "outputs": [
    {
     "name": "stdout",
     "output_type": "stream",
     "text": [
      "<class 'list'>\n"
     ]
    }
   ],
   "source": [
    "# what is the datatype of a list:?\n",
    "mylist=[\"apple\",\"banana\",\"cherry\"]\n",
    "print(type(mylist))"
   ]
  },
  {
   "attachments": {},
   "cell_type": "markdown",
   "metadata": {},
   "source": [
    "### The list constructor\n",
    "it is also possible to use the list() constructor when creating a new list."
   ]
  },
  {
   "cell_type": "code",
   "execution_count": 8,
   "metadata": {},
   "outputs": [
    {
     "name": "stdout",
     "output_type": "stream",
     "text": [
      "['cherry', 'banana', 'apple']\n"
     ]
    }
   ],
   "source": [
    "#Using the list() constructor when creating a new list.\n",
    "thislist=list((\"cherry\",\"banana\",\"apple\")) # note the double round brackets\n",
    "print(thislist)"
   ]
  },
  {
   "attachments": {},
   "cell_type": "markdown",
   "metadata": {},
   "source": [
    "### Access a list Items\n",
    "List items are indexed and you can access them by reffering to the index number:"
   ]
  },
  {
   "cell_type": "code",
   "execution_count": 9,
   "metadata": {},
   "outputs": [
    {
     "name": "stdout",
     "output_type": "stream",
     "text": [
      "banana\n"
     ]
    }
   ],
   "source": [
    "# print the second item of the list:\n",
    "thislist=[\"apple\",\"banana\",\"cherry\"]\n",
    "print(thislist[1])"
   ]
  },
  {
   "attachments": {},
   "cell_type": "markdown",
   "metadata": {},
   "source": [
    "`note::`The first item has index 0"
   ]
  },
  {
   "attachments": {},
   "cell_type": "markdown",
   "metadata": {},
   "source": [
    "### Negative Indexing\n",
    "Negative Indexing means start from the end<br>\n",
    "-1 refer to the last item and '-2' refer to the second last item etc.\n"
   ]
  },
  {
   "cell_type": "code",
   "execution_count": 10,
   "metadata": {},
   "outputs": [
    {
     "name": "stdout",
     "output_type": "stream",
     "text": [
      "danger\n"
     ]
    }
   ],
   "source": [
    "# Print the last item of the list:\n",
    "thislist=[\"apple\",\"banana\",\"cabage\",\"danger\"]\n",
    "print(thislist[-1])"
   ]
  },
  {
   "attachments": {},
   "cell_type": "markdown",
   "metadata": {},
   "source": [
    "### Ranges of indexes\n",
    "You can specify a range of indexes by specifying where to start and where to end the range.\n",
    "<br>\n",
    "when specifying a range ,the return value will be a new list with the specified items. "
   ]
  },
  {
   "cell_type": "code",
   "execution_count": 11,
   "metadata": {},
   "outputs": [
    {
     "name": "stdout",
     "output_type": "stream",
     "text": [
      "['cherry', 'mango', 'sapota']\n"
     ]
    }
   ],
   "source": [
    "# Return the third ,forth ,fifth items :\n",
    "thislist=[\"apple\",\"banana\",\"cherry\",\"mango\",\"sapota\",\"kiwi\"]\n",
    "print(thislist[2:5])"
   ]
  },
  {
   "attachments": {},
   "cell_type": "markdown",
   "metadata": {},
   "source": [
    "`note`: The Search will start at index 2 (include ) and end at index 5(excluded).<br>\n",
    "Remember that the first item has index 0\n",
    "<br>By leaving out the start value,the range will start at the first item"
   ]
  },
  {
   "cell_type": "code",
   "execution_count": 13,
   "metadata": {},
   "outputs": [
    {
     "name": "stdout",
     "output_type": "stream",
     "text": [
      "['apple', 'banana', 'cherry', 'orange']\n"
     ]
    }
   ],
   "source": [
    "# This example returns the items from the beginning to ,but not including,kiwi:\n",
    "thislist=[\"apple\",\"banana\",\"cherry\",\"orange\",\"kiwi\",\"melon\",\"mango\"]\n",
    "print(thislist[:4])"
   ]
  },
  {
   "attachments": {},
   "cell_type": "markdown",
   "metadata": {},
   "source": [
    "By leaving out the end value,the range will go on to the end of the list:``"
   ]
  },
  {
   "cell_type": "code",
   "execution_count": 15,
   "metadata": {},
   "outputs": [
    {
     "name": "stdout",
     "output_type": "stream",
     "text": [
      "['cherry', 'orange', 'kiwi', 'melon', 'mango']\n"
     ]
    }
   ],
   "source": [
    "# THis example returns the items from cherry to the end:\n",
    "thislist=[\"apple\",\"banana\",\"cherry\",\"orange\",\"kiwi\",\"melon\",\"mango\"]\n",
    "print(thislist[2:])"
   ]
  },
  {
   "attachments": {},
   "cell_type": "markdown",
   "metadata": {},
   "source": [
    "### Range of Negative Indexes\n",
    "Specify negative indexes if you want to start the search from the end of list"
   ]
  },
  {
   "cell_type": "code",
   "execution_count": 19,
   "metadata": {},
   "outputs": [
    {
     "name": "stdout",
     "output_type": "stream",
     "text": [
      "['orange', 'kiwi', 'melon']\n"
     ]
    }
   ],
   "source": [
    "# This Example returns the items from \"orange\" (-4) to ,but not including \"mango\"(-1):\n",
    "thislist=[\"apple\",\"banana\",\"cherry\",\"orange\",\"kiwi\",\"melon\",\"mango\"]\n",
    "print(thislist[-4:-1])"
   ]
  },
  {
   "attachments": {},
   "cell_type": "markdown",
   "metadata": {},
   "source": [
    "### check if items Exists\n",
    "TO determine if a specified item is present in a list use the `in` keyword"
   ]
  },
  {
   "cell_type": "code",
   "execution_count": 20,
   "metadata": {},
   "outputs": [
    {
     "name": "stdout",
     "output_type": "stream",
     "text": [
      "yes apple is available in the list\n"
     ]
    }
   ],
   "source": [
    "# Check if \"apple\" is present in the list:\n",
    "thislist=[\"apple\",\"banana\",\"cherry\"]\n",
    "if \"apple\" in thislist:\n",
    "    print(\"yes apple is available in the list\")\n",
    "else:\n",
    "    print(\"apple is not available in the list\")\n"
   ]
  },
  {
   "attachments": {},
   "cell_type": "markdown",
   "metadata": {},
   "source": [
    "### Change List Items\n",
    "##### change item value\n",
    "To change the value of a specific item ,refer to the index number:"
   ]
  },
  {
   "cell_type": "code",
   "execution_count": 21,
   "metadata": {},
   "outputs": [
    {
     "name": "stdout",
     "output_type": "stream",
     "text": [
      "kiran\n",
      "Vinod\n"
     ]
    }
   ],
   "source": [
    "# change the second item:\n",
    "thislist=[\"brahma\",\"kiran\",\"rakesh\",\"softsuave\"]\n",
    "print(thislist[1])\n",
    "thislist[1]=\"Vinod\"\n",
    "print(thislist[1])"
   ]
  },
  {
   "attachments": {},
   "cell_type": "markdown",
   "metadata": {},
   "source": [
    "### Change a Range of Item values\n",
    "To change the value of items within a specific range,define a list with the new values,and refer to the range of index numbers where you want to insert the new values:"
   ]
  },
  {
   "cell_type": "code",
   "execution_count": 22,
   "metadata": {},
   "outputs": [
    {
     "name": "stdout",
     "output_type": "stream",
     "text": [
      "['apple', 'balckcurrant', 'WaterMelon', 'orange', 'kiwi', 'mango']\n"
     ]
    }
   ],
   "source": [
    "# Change the values \"banana\",\"cherry\" with the values \"blackcurrant\",\"watermelon\":\n",
    "thislist=[\"apple\",\"banana\",\"cherry\",\"orange\",\"kiwi\",\"mango\"]\n",
    "thislist[1:3]=[\"balckcurrant\",\"WaterMelon\"]\n",
    "print(thislist)"
   ]
  },
  {
   "attachments": {},
   "cell_type": "markdown",
   "metadata": {},
   "source": [
    "If you insert more items than you replace,the new items will be inserted where you specified ,and the remaining items will move accordingly."
   ]
  },
  {
   "cell_type": "code",
   "execution_count": 23,
   "metadata": {},
   "outputs": [
    {
     "name": "stdout",
     "output_type": "stream",
     "text": [
      "['apple', 'blackcurrant', 'Watermelon', 'cherry']\n"
     ]
    }
   ],
   "source": [
    "#change the second value by replacing it with two new values:\n",
    "thislist=[\"apple\",\"banana\",\"cherry\"]\n",
    "thislist[1:2]=[\"blackcurrant\",\"Watermelon\"]\n",
    "print(thislist)"
   ]
  },
  {
   "attachments": {},
   "cell_type": "markdown",
   "metadata": {},
   "source": [
    "`note::`The length of list will change when the number of items inserted does not match the number of items replaced"
   ]
  },
  {
   "attachments": {},
   "cell_type": "markdown",
   "metadata": {},
   "source": [
    "If you inserted less items than you replace ,the new items will be inserted where you specified ,and the remaining item will move accordingly:"
   ]
  },
  {
   "cell_type": "code",
   "execution_count": 24,
   "metadata": {},
   "outputs": [
    {
     "name": "stdout",
     "output_type": "stream",
     "text": [
      "['apple', 'watermelon']\n"
     ]
    }
   ],
   "source": [
    "# change the second and third value by replacing it with one value:\n",
    "thislist=[\"apple\",\"banana\",\"cherry\"]\n",
    "thislist[1:3]=[\"watermelon\"]\n",
    "print(thislist)\n"
   ]
  },
  {
   "attachments": {},
   "cell_type": "markdown",
   "metadata": {},
   "source": [
    "### Insert Items\n",
    "To insert a new item ,without replacing any of the existing values,we can use the `insert()` method.\n",
    "<br>the `insert()` method inserts an item at the specified index:"
   ]
  },
  {
   "cell_type": "code",
   "execution_count": 25,
   "metadata": {},
   "outputs": [
    {
     "name": "stdout",
     "output_type": "stream",
     "text": [
      "['apple', 'banana', 'king']\n",
      "['apple', 'banana', 'watermelon', 'king']\n"
     ]
    }
   ],
   "source": [
    "# insert \"watermelon\" as the third item\n",
    "thislist=[\"apple\",\"banana\",\"king\"]\n",
    "print(thislist)\n",
    "thislist.insert(2,\"watermelon\")\n",
    "print(thislist)"
   ]
  },
  {
   "attachments": {},
   "cell_type": "markdown",
   "metadata": {},
   "source": [
    "`note::`As a result of the example above ,the list now contain 4 items."
   ]
  },
  {
   "attachments": {},
   "cell_type": "markdown",
   "metadata": {},
   "source": [
    "### Add List Items\n",
    "##### Append items\n",
    "TO add an item to the end of the list,use the `append()` method:"
   ]
  },
  {
   "cell_type": "code",
   "execution_count": 26,
   "metadata": {},
   "outputs": [
    {
     "name": "stdout",
     "output_type": "stream",
     "text": [
      "['apple', 'banana', 'cherry', 'kiwi']\n"
     ]
    }
   ],
   "source": [
    "# using the append() method to append an item:\n",
    "thislist=[\"apple\",\"banana\",\"cherry\"]\n",
    "thislist.append(\"kiwi\")\n",
    "print(thislist)"
   ]
  },
  {
   "attachments": {},
   "cell_type": "markdown",
   "metadata": {},
   "source": [
    "### Insert items\n",
    "To insert a list item at a specified index ,use the `insert()` method<br>\n",
    "The `insert()` method inserts an item at the specified index:"
   ]
  },
  {
   "cell_type": "code",
   "execution_count": 27,
   "metadata": {},
   "outputs": [
    {
     "name": "stdout",
     "output_type": "stream",
     "text": [
      "['apple', 'banana', 'brahma reddy', 'cherry']\n"
     ]
    }
   ],
   "source": [
    "# Insert an item as the second position:\n",
    "thislist=[\"apple\",\"banana\",\"cherry\"]\n",
    "thislist.insert(2,\"brahma reddy\")\n",
    "print(thislist)"
   ]
  },
  {
   "attachments": {},
   "cell_type": "markdown",
   "metadata": {},
   "source": [
    "`note::`As a result of the examples above,the list will now contain 4 items."
   ]
  },
  {
   "attachments": {},
   "cell_type": "markdown",
   "metadata": {},
   "source": [
    "### Extend list\n",
    "To append elements from another list to current list ,use `extend()` method.\n"
   ]
  },
  {
   "cell_type": "code",
   "execution_count": 28,
   "metadata": {},
   "outputs": [
    {
     "name": "stdout",
     "output_type": "stream",
     "text": [
      "['apple', 'banana', 'cherry', 'mango', 'pineapple', 'papaya']\n"
     ]
    }
   ],
   "source": [
    "# Add the elements of tropical to thislist:\n",
    "thislist=[\"apple\",\"banana\",\"cherry\"]\n",
    "tropical=[\"mango\",\"pineapple\",\"papaya\"]\n",
    "thislist.extend(tropical)\n",
    "print(thislist)"
   ]
  },
  {
   "attachments": {},
   "cell_type": "markdown",
   "metadata": {},
   "source": [
    "`note::` the elements will be added to the end of the list.\n"
   ]
  },
  {
   "attachments": {},
   "cell_type": "markdown",
   "metadata": {},
   "source": [
    "### Add any iterable\n",
    "the `extend()` method does not only  to append lists but also append iterable objects(tuples,sets,dictionaries etc)"
   ]
  },
  {
   "cell_type": "code",
   "execution_count": 29,
   "metadata": {},
   "outputs": [
    {
     "name": "stdout",
     "output_type": "stream",
     "text": [
      "['apple', 'banana', 'cherry', 'kiwi', 'orange']\n"
     ]
    }
   ],
   "source": [
    "# add elements of tuple to a list:\n",
    "thislist=[\"apple\",\"banana\",\"cherry\"]\n",
    "thistuple=(\"kiwi\",\"orange\")\n",
    "thislist.extend(thistuple)\n",
    "print(thislist)"
   ]
  },
  {
   "attachments": {},
   "cell_type": "markdown",
   "metadata": {},
   "source": [
    "### Remove List Items\n",
    "##### Remove specified item\n",
    "the `remove()`: method removes the specified item.\n"
   ]
  },
  {
   "cell_type": "code",
   "execution_count": 30,
   "metadata": {},
   "outputs": [
    {
     "name": "stdout",
     "output_type": "stream",
     "text": [
      "['kiran', 'rakesh']\n"
     ]
    }
   ],
   "source": [
    "# Removes banana\n",
    "thislist=[\"brahma\",\"kiran\",\"rakesh\"]\n",
    "thislist.remove(\"brahma\")\n",
    "print(thislist)"
   ]
  },
  {
   "attachments": {},
   "cell_type": "markdown",
   "metadata": {},
   "source": [
    "### Remove Specified Index\n",
    "The `pop()`: method removes the specified Index."
   ]
  },
  {
   "cell_type": "code",
   "execution_count": 31,
   "metadata": {},
   "outputs": [
    {
     "name": "stdout",
     "output_type": "stream",
     "text": [
      "['braham', 'vindo', 'murthy']\n"
     ]
    }
   ],
   "source": [
    "# Remove the Second Item:\n",
    "thislist=[\"braham\",\"kiran\",\"vindo\",\"murthy\"]\n",
    "thislist.pop(1)\n",
    "print(thislist)"
   ]
  },
  {
   "attachments": {},
   "cell_type": "markdown",
   "metadata": {},
   "source": [
    "If you do not specify the index ,the `pop()` method removes the last item"
   ]
  },
  {
   "cell_type": "code",
   "execution_count": 32,
   "metadata": {},
   "outputs": [
    {
     "name": "stdout",
     "output_type": "stream",
     "text": [
      "['kiran', 'mango', 'brahma']\n"
     ]
    }
   ],
   "source": [
    "# Remove the last item\n",
    "thislist=[\"kiran\",\"mango\",\"brahma\",\"sapota\"]\n",
    "thislist.pop()\n",
    "print(thislist)"
   ]
  },
  {
   "attachments": {},
   "cell_type": "markdown",
   "metadata": {},
   "source": [
    "The `del` keyword also removes the specified index:"
   ]
  },
  {
   "cell_type": "code",
   "execution_count": 33,
   "metadata": {},
   "outputs": [
    {
     "name": "stdout",
     "output_type": "stream",
     "text": [
      "['kiran', 'Vinod']\n"
     ]
    }
   ],
   "source": [
    "# REmove the first item:\n",
    "thislist=[\"brahma\",\"kiran\",\"Vinod\"]\n",
    "del thislist[0]\n",
    "print(thislist)"
   ]
  },
  {
   "attachments": {},
   "cell_type": "markdown",
   "metadata": {},
   "source": [
    "the `del` keyword can also delete the list completely."
   ]
  },
  {
   "cell_type": "code",
   "execution_count": 34,
   "metadata": {},
   "outputs": [
    {
     "ename": "NameError",
     "evalue": "name 'thislist' is not defined",
     "output_type": "error",
     "traceback": [
      "\u001b[0;31m---------------------------------------------------------------------------\u001b[0m",
      "\u001b[0;31mNameError\u001b[0m                                 Traceback (most recent call last)",
      "Cell \u001b[0;32mIn[34], line 4\u001b[0m\n\u001b[1;32m      2\u001b[0m thislist\u001b[39m=\u001b[39m[\u001b[39m\"\u001b[39m\u001b[39mapple\u001b[39m\u001b[39m\"\u001b[39m,\u001b[39m\"\u001b[39m\u001b[39mbanana\u001b[39m\u001b[39m\"\u001b[39m,\u001b[39m\"\u001b[39m\u001b[39mcherry\u001b[39m\u001b[39m\"\u001b[39m]\n\u001b[1;32m      3\u001b[0m \u001b[39mdel\u001b[39;00m thislist\n\u001b[0;32m----> 4\u001b[0m \u001b[39mprint\u001b[39m(thislist)\n",
      "\u001b[0;31mNameError\u001b[0m: name 'thislist' is not defined"
     ]
    }
   ],
   "source": [
    "# Delete the entire list:\n",
    "thislist=[\"apple\",\"banana\",\"cherry\"]\n",
    "del thislist\n",
    "print(thislist)"
   ]
  },
  {
   "attachments": {},
   "cell_type": "markdown",
   "metadata": {},
   "source": [
    "### clear the list\n",
    "the `clear()` method empties the list. <br>\n",
    "The list still remains,but it has no content."
   ]
  },
  {
   "cell_type": "code",
   "execution_count": 35,
   "metadata": {},
   "outputs": [
    {
     "name": "stdout",
     "output_type": "stream",
     "text": [
      "[]\n"
     ]
    }
   ],
   "source": [
    "# Clear the list content\n",
    "thislist=[\"apple\",\"banana\",\"cherry\"]\n",
    "thislist.clear()\n",
    "print(thislist)"
   ]
  },
  {
   "attachments": {},
   "cell_type": "markdown",
   "metadata": {},
   "source": [
    "### Loop Lists\n",
    "##### Loop through a list\n",
    "You can loop through the list items by using a for loop:"
   ]
  },
  {
   "cell_type": "code",
   "execution_count": 36,
   "metadata": {},
   "outputs": [
    {
     "name": "stdout",
     "output_type": "stream",
     "text": [
      "apple\n",
      "banana\n",
      "cherry\n"
     ]
    }
   ],
   "source": [
    "# print all the items in list ,one by one:\n",
    "thislist=[\"apple\",\"banana\",\"cherry\"]\n",
    "for x in thislist:\n",
    "    print(x)\n"
   ]
  },
  {
   "attachments": {},
   "cell_type": "markdown",
   "metadata": {},
   "source": [
    "### Loops through the index Numbers\n",
    "You can also loop through the list items by referring to their index number.\n",
    "<br>Use the `range()`,and `len()` functions to create a suitable iterable."
   ]
  },
  {
   "cell_type": "code",
   "execution_count": 49,
   "metadata": {},
   "outputs": [
    {
     "name": "stdout",
     "output_type": "stream",
     "text": [
      "apple\n",
      "banana\n",
      "cherry\n"
     ]
    }
   ],
   "source": [
    "# print all items by referring to their index number:\n",
    "thislist = [\"apple\", \"banana\", \"cherry\"]\n",
    "for i in range(len(thislist)):\n",
    "  print(thislist[i])\n"
   ]
  },
  {
   "attachments": {},
   "cell_type": "markdown",
   "metadata": {},
   "source": [
    "`note::`The iterable created in the exmaple is [0,1,2]"
   ]
  },
  {
   "attachments": {},
   "cell_type": "markdown",
   "metadata": {},
   "source": [
    "### Using WHile loop:\n",
    "You can loop through the list items by using a while loop.\n",
    "<br> Use the `len()` to determine the length of the list,then start at 0 and  loop your way through the list items by referring to their indexes.<br>Remember to increase  the index by 1 after each iteration"
   ]
  },
  {
   "cell_type": "code",
   "execution_count": 48,
   "metadata": {},
   "outputs": [
    {
     "name": "stdout",
     "output_type": "stream",
     "text": [
      "apple\n",
      "banana\n",
      "cherry\n"
     ]
    }
   ],
   "source": [
    "# print all items ,using a while loop to go through all the index numbers\n",
    "thislist=[\"apple\",\"banana\",\"cherry\"]\n",
    "i=0\n",
    "del len\n",
    "while i<len(thislist):\n",
    "    print(thislist[i])\n",
    "    i=i+1"
   ]
  },
  {
   "attachments": {},
   "cell_type": "markdown",
   "metadata": {},
   "source": [
    "### Looping Using List Compression\n",
    "list compression offers the shortest syntax for looping through lists:\n"
   ]
  },
  {
   "cell_type": "code",
   "execution_count": 51,
   "metadata": {},
   "outputs": [
    {
     "name": "stdout",
     "output_type": "stream",
     "text": [
      "apple\n",
      "banana\n",
      "cherry\n"
     ]
    },
    {
     "data": {
      "text/plain": [
       "[None, None, None]"
      ]
     },
     "execution_count": 51,
     "metadata": {},
     "output_type": "execute_result"
    }
   ],
   "source": [
    "# A short hand for loop that will print all items in a list:\n",
    "thislist11=[\"apple\",\"banana\",\"cherry\"]\n",
    "[print(x) for x in thislist11]"
   ]
  },
  {
   "attachments": {},
   "cell_type": "markdown",
   "metadata": {},
   "source": [
    "### List Compression::\n",
    "##### List Compression\n",
    "list compression offers a shorter syntax when you want to create a new list based on the values of an existing list.\n",
    "<br>ex:<br>\n",
    "Based on a list of fruits ,you want a new list,containing only the fruits with the letter \"a\" in the name.<br>\n",
    "without list compression you will have to write a for statement with a conditional test inside:\n"
   ]
  },
  {
   "cell_type": "code",
   "execution_count": 52,
   "metadata": {},
   "outputs": [
    {
     "name": "stdout",
     "output_type": "stream",
     "text": [
      "['apple', 'banana', 'mango']\n"
     ]
    }
   ],
   "source": [
    "fruits=[\"apple\",\"banana\",\"cherry\",\"kiwi\",\"mango\"]\n",
    "new=[]\n",
    "for x in fruits:\n",
    "    if \"a\" in x:\n",
    "        new.append(x)\n",
    "print(new)\n"
   ]
  },
  {
   "attachments": {},
   "cell_type": "markdown",
   "metadata": {},
   "source": [
    "with list compression you can do all that with only one line of code:"
   ]
  },
  {
   "cell_type": "code",
   "execution_count": 54,
   "metadata": {},
   "outputs": [
    {
     "name": "stdout",
     "output_type": "stream",
     "text": [
      "['apple', 'banana', 'mango']\n"
     ]
    }
   ],
   "source": [
    "fruits=[\"apple\",\"banana\",\"cherry\",\"kiwi\",\"mango\"]\n",
    "new=[x for x in fruits if \"a\" in x]\n",
    "print(new)"
   ]
  },
  {
   "attachments": {},
   "cell_type": "markdown",
   "metadata": {},
   "source": [
    "## the Syntax\n",
    "`new=[expression for item in iterable if condition == True]`\n",
    "<br>The return value is a new list,leaving the old list unchanged."
   ]
  },
  {
   "attachments": {},
   "cell_type": "markdown",
   "metadata": {},
   "source": [
    "### condition\n",
    "the condition is like a filter that only accepts the items that valuate True."
   ]
  },
  {
   "cell_type": "code",
   "execution_count": 56,
   "metadata": {},
   "outputs": [
    {
     "name": "stdout",
     "output_type": "stream",
     "text": [
      "['banana', 'kiwi']\n"
     ]
    }
   ],
   "source": [
    "# only accepts items that are not \"apple\"\n",
    "fruit=[\"apple\",\"banana\",\"kiwi\"]\n",
    "neww=[x for x in fruit if x !=\"apple\"]\n",
    "print(neww)"
   ]
  },
  {
   "attachments": {},
   "cell_type": "markdown",
   "metadata": {},
   "source": [
    "The condition if x!=\"apple\" will return True for all elements other than \"apple\" ,making the new list contain all fruits except \"apple\".<br>\n",
    "The condition is optional and can be omitted:"
   ]
  },
  {
   "cell_type": "code",
   "execution_count": 57,
   "metadata": {},
   "outputs": [
    {
     "name": "stdout",
     "output_type": "stream",
     "text": [
      "['apple', 'banana']\n"
     ]
    }
   ],
   "source": [
    "# with no if statement\n",
    "fruitss=[\"apple\",\"banana\"]\n",
    "news=[x for x in fruitss]\n",
    "print(news)"
   ]
  },
  {
   "attachments": {},
   "cell_type": "markdown",
   "metadata": {},
   "source": [
    "### Iterable\n",
    "The iterable can be any iterable object,like a list,tuple,set etc.."
   ]
  },
  {
   "cell_type": "code",
   "execution_count": 58,
   "metadata": {},
   "outputs": [
    {
     "name": "stdout",
     "output_type": "stream",
     "text": [
      "[0, 1, 2, 3, 4, 5, 6, 7, 8, 9]\n"
     ]
    }
   ],
   "source": [
    "# you can use the range() function to create an iterable:\n",
    "new=[x for x in range(10)]\n",
    "print(new)"
   ]
  },
  {
   "cell_type": "code",
   "execution_count": 59,
   "metadata": {},
   "outputs": [
    {
     "name": "stdout",
     "output_type": "stream",
     "text": [
      "[0, 2, 4, 6, 8]\n"
     ]
    }
   ],
   "source": [
    "new=[x for x in range(10) if x%2==0]\n",
    "print(new)"
   ]
  },
  {
   "attachments": {},
   "cell_type": "markdown",
   "metadata": {},
   "source": [
    "### Expression \n",
    "the expression is the current item in the iteration ,but it is also the outcome,which you can manipulate before it ends up lilke a list in the new list:"
   ]
  },
  {
   "cell_type": "code",
   "execution_count": 60,
   "metadata": {},
   "outputs": [
    {
     "name": "stdout",
     "output_type": "stream",
     "text": [
      "['APPLE', 'BANANA', 'KIWI']\n"
     ]
    }
   ],
   "source": [
    "fruits=[\"apple\",\"banana\",\"kiwi\"]\n",
    "new=[x.upper() for x in fruits]\n",
    "print(new)"
   ]
  },
  {
   "attachments": {},
   "cell_type": "markdown",
   "metadata": {},
   "source": [
    "`note::`You can set the outcome to whatever you like:"
   ]
  },
  {
   "cell_type": "code",
   "execution_count": 61,
   "metadata": {},
   "outputs": [
    {
     "name": "stdout",
     "output_type": "stream",
     "text": [
      "['hello', 'hello', 'hello', 'hello']\n"
     ]
    }
   ],
   "source": [
    "# set all values in the list to 'hello'\n",
    "words=[\"bye\",\"meet\",\"how are you\",\"good morning\"]\n",
    "new=[\"hello\" for x in words]\n",
    "print(new)"
   ]
  },
  {
   "attachments": {},
   "cell_type": "markdown",
   "metadata": {},
   "source": [
    "`note:`the expressions can also contain conditons ,not like a filter,but as a way to manipulate the outcome:"
   ]
  },
  {
   "cell_type": "code",
   "execution_count": 62,
   "metadata": {},
   "outputs": [
    {
     "name": "stdout",
     "output_type": "stream",
     "text": [
      "['apple', 'orange', 'cherry', 'kiwi', 'mango']\n"
     ]
    }
   ],
   "source": [
    "fruits=[\"apple\",\"banana\",\"cherry\",\"kiwi\",\"mango\"]\n",
    "n=[x if x!=\"banana\" else \"orange\" for x in fruits]\n",
    "print(n)"
   ]
  },
  {
   "attachments": {},
   "cell_type": "markdown",
   "metadata": {},
   "source": [
    "the expression in the example  above says:\n",
    "<br>\n",
    "\"Return the item if it is not bananan,if if is banana return orange.\""
   ]
  },
  {
   "attachments": {},
   "cell_type": "markdown",
   "metadata": {},
   "source": [
    "### Sort Lists\n",
    "List objects have a `sort()` method that will sort the list alphanumerically,ascending,by default:"
   ]
  },
  {
   "cell_type": "code",
   "execution_count": 64,
   "metadata": {},
   "outputs": [
    {
     "name": "stdout",
     "output_type": "stream",
     "text": [
      "['banana', 'kiwi', 'mango', 'orange', 'pineapple']\n"
     ]
    }
   ],
   "source": [
    "# sort the list alphabatically:\n",
    "thislist=[\"orange\",\"mango\",\"kiwi\",\"pineapple\",\"banana\"]\n",
    "thislist.sort()\n",
    "print(thislist)"
   ]
  },
  {
   "cell_type": "code",
   "execution_count": 65,
   "metadata": {},
   "outputs": [
    {
     "name": "stdout",
     "output_type": "stream",
     "text": [
      "[23, 50, 65, 82, 100]\n"
     ]
    }
   ],
   "source": [
    "# sort list numerically\n",
    "thislist=[100,50,65,82,23]\n",
    "thislist.sort()\n",
    "print(thislist)"
   ]
  },
  {
   "attachments": {},
   "cell_type": "markdown",
   "metadata": {},
   "source": [
    "### sort Descending\n",
    "To sort descending,use the keyword argument `reverse=True`"
   ]
  },
  {
   "cell_type": "code",
   "execution_count": 66,
   "metadata": {},
   "outputs": [
    {
     "name": "stdout",
     "output_type": "stream",
     "text": [
      "['pineapple', 'orange', 'mango', 'kiwi', 'banana']\n"
     ]
    }
   ],
   "source": [
    "# sort list descending:\n",
    "thislist=[\"mango\",\"orange\",\"kiwi\",\"pineapple\",\"banana\"]\n",
    "thislist.sort(reverse=True)\n",
    "print(thislist)"
   ]
  },
  {
   "cell_type": "code",
   "execution_count": 67,
   "metadata": {},
   "outputs": [
    {
     "name": "stdout",
     "output_type": "stream",
     "text": [
      "[100, 82, 65, 50, 23]\n"
     ]
    }
   ],
   "source": [
    "# sort the list descending\n",
    "thislist=[100,50,65,82,23]\n",
    "thislist.sort(reverse=True)\n",
    "print(thislist)"
   ]
  },
  {
   "attachments": {},
   "cell_type": "markdown",
   "metadata": {},
   "source": [
    "### Customize Sort Function\n",
    "You can also customize your own function by using the keyword `key=fuction.`\n",
    "<br>The function will return a number that will be used to sort the list(the lowest number first):\n"
   ]
  },
  {
   "cell_type": "code",
   "execution_count": 68,
   "metadata": {},
   "outputs": [
    {
     "name": "stdout",
     "output_type": "stream",
     "text": [
      "[50, 65, 23, 82, 100]\n"
     ]
    }
   ],
   "source": [
    "# sort the list based on how close the number is to 50\n",
    "def myfunction(n):\n",
    "    return abs(n-50)\n",
    "\n",
    "thislist=[100,50,65,82,23]\n",
    "thislist.sort(key=myfunction)\n",
    "print(thislist)"
   ]
  },
  {
   "attachments": {},
   "cell_type": "markdown",
   "metadata": {},
   "source": [
    "### Case Insensitive Sort\n",
    "By default the `sort()` method is case sensitive ,resulting in all capital letters being sorted before lower case letters:"
   ]
  },
  {
   "cell_type": "code",
   "execution_count": 69,
   "metadata": {},
   "outputs": [
    {
     "name": "stdout",
     "output_type": "stream",
     "text": [
      "['Kiwi', 'Orange', 'banana', 'cherry']\n"
     ]
    }
   ],
   "source": [
    "# case sensitive sorting can give an unexpected result:\n",
    "thislist=[\"banana\",\"Orange\",\"Kiwi\",\"cherry\"]\n",
    "thislist.sort()\n",
    "print(thislist)"
   ]
  },
  {
   "attachments": {},
   "cell_type": "markdown",
   "metadata": {},
   "source": [
    "Luckily we can use built in functions as key functions when sorting a list\n",
    "<br>So If you want a case-insensitive sort function ,str.lower as a key function"
   ]
  },
  {
   "cell_type": "code",
   "execution_count": 71,
   "metadata": {},
   "outputs": [
    {
     "name": "stdout",
     "output_type": "stream",
     "text": [
      "['banana', 'cherry', 'Kiwi', 'Orange']\n"
     ]
    }
   ],
   "source": [
    "# Perform a case-insensitive sort of the list:\n",
    "thislist=[\"banana\",\"Orange\",\"Kiwi\",\"cherry\"]\n",
    "thislist.sort(key=str.upper)\n",
    "print(thislist)"
   ]
  },
  {
   "attachments": {},
   "cell_type": "markdown",
   "metadata": {},
   "source": [
    "### Reverse Order \n",
    "what if you want to reverse the order of list,regardless of the alphabet?\n",
    "<br>\n",
    "THe `reverse()` method reverses the current sorting order of the elements."
   ]
  },
  {
   "cell_type": "code",
   "execution_count": 72,
   "metadata": {},
   "outputs": [
    {
     "name": "stdout",
     "output_type": "stream",
     "text": [
      "['cherry', 'Kiwi', 'Orange', 'banana']\n"
     ]
    }
   ],
   "source": [
    "# Reverse the order of the list items:\n",
    "thislist=[\"banana\",\"Orange\",\"Kiwi\",\"cherry\"]\n",
    "thislist.reverse()\n",
    "print(thislist)"
   ]
  },
  {
   "attachments": {},
   "cell_type": "markdown",
   "metadata": {},
   "source": [
    "### Copy Lists\n",
    "##### copy a list\n",
    "You cannot copy a list simply by typing list2=list1.because list2 will only be a reference to list1.and changes made in list1 will automatically also be made in list2.<br>\n",
    "There are ways to make a copy,one way is to use the built-in List method `copy()`."
   ]
  },
  {
   "cell_type": "code",
   "execution_count": 1,
   "metadata": {},
   "outputs": [
    {
     "name": "stdout",
     "output_type": "stream",
     "text": [
      "['apple', 'banana', 'cherry']\n"
     ]
    }
   ],
   "source": [
    "# Make a copy of a list with the copy() method:\n",
    "thislist=[\"apple\",\"banana\",\"cherry\"]\n",
    "mylist=thislist.copy()\n",
    "print(mylist)"
   ]
  },
  {
   "attachments": {},
   "cell_type": "markdown",
   "metadata": {},
   "source": [
    "Another way to make a copy is to use the built-in method `list()`"
   ]
  },
  {
   "cell_type": "code",
   "execution_count": 2,
   "metadata": {},
   "outputs": [
    {
     "name": "stdout",
     "output_type": "stream",
     "text": [
      "['apple', 'banana', 'cherry']\n"
     ]
    }
   ],
   "source": [
    "#make a copy of a list with the list() method:\n",
    "thislist=[\"apple\",\"banana\",\"cherry\"]\n",
    "mylist=list(thislist)\n",
    "print(mylist)"
   ]
  },
  {
   "attachments": {},
   "cell_type": "markdown",
   "metadata": {},
   "source": [
    "### Join List\n",
    "##### Join Two lists\n",
    "There are several ways to join,or concatenate,two or more lists in python.<br>\n",
    "One of the easiest ways are by using the `+ ` operator"
   ]
  },
  {
   "cell_type": "code",
   "execution_count": 3,
   "metadata": {},
   "outputs": [
    {
     "name": "stdout",
     "output_type": "stream",
     "text": [
      "['a', 'b', 'c', 1, 2, 3]\n"
     ]
    }
   ],
   "source": [
    "# join two list:\n",
    "list1=[\"a\",\"b\",\"c\"]\n",
    "list2=[1,2,3]\n",
    "list3=list1+list2\n",
    "print(list3)"
   ]
  },
  {
   "attachments": {},
   "cell_type": "markdown",
   "metadata": {},
   "source": [
    "Another way to join two lists is by appending all the items from list2 to list1,one by open"
   ]
  },
  {
   "cell_type": "code",
   "execution_count": 4,
   "metadata": {},
   "outputs": [
    {
     "name": "stdout",
     "output_type": "stream",
     "text": [
      "['a', 'b', 'c', 1, 2, 3]\n"
     ]
    }
   ],
   "source": [
    "#append list2 to list1:\n",
    "list1=[\"a\",\"b\",\"c\"]\n",
    "list2=[1,2,3]\n",
    "for x in list2:\n",
    "    list1.append(x)\n",
    "print(list1)"
   ]
  },
  {
   "attachments": {},
   "cell_type": "markdown",
   "metadata": {},
   "source": [
    "Or you can use the` extend()` method,which purpose is to add elements from one list to another list:"
   ]
  },
  {
   "cell_type": "code",
   "execution_count": 5,
   "metadata": {},
   "outputs": [
    {
     "name": "stdout",
     "output_type": "stream",
     "text": [
      "['a', 'b', 'c', 1, 2, 3]\n"
     ]
    }
   ],
   "source": [
    "# use the `extend()` method to add list2 at the end of list1:\n",
    "list1=[\"a\",\"b\",\"c\"]\n",
    "list2=[1,2,3]\n",
    "list1.extend(list2)\n",
    "print(list1)"
   ]
  },
  {
   "attachments": {},
   "cell_type": "markdown",
   "metadata": {},
   "source": [
    "<table class=\"ws-table-all notranslate\">\n",
    "<tbody><tr>\n",
    "<th>Method</th>\n",
    "<th>Description</th>\n",
    "</tr>\n",
    "<tr><td><a href=\"ref_list_append.asp\">append()</a></td><td>Adds an element at \n",
    "  the end of the list</td></tr>\n",
    "<tr><td><a href=\"ref_list_clear.asp\">clear()</a></td><td>Removes all the \n",
    "  elements from the list</td></tr>\n",
    "<tr><td><a href=\"ref_list_copy.asp\">copy()</a></td><td>Returns a copy of the \n",
    "  list</td></tr>\n",
    "<tr><td><a href=\"ref_list_count.asp\">count()</a></td><td>Returns the number of \n",
    "  elements with the specified value</td></tr>\n",
    "<tr><td><a href=\"ref_list_extend.asp\">extend()</a></td><td>Add the elements of a \n",
    "  list (or any iterable), to the end of the current list</td></tr>\n",
    "<tr><td><a href=\"ref_list_index.asp\">index()</a></td><td>Returns the index of \n",
    "  the first element with the specified value</td></tr>\n",
    "<tr><td><a href=\"ref_list_insert.asp\">insert()</a></td><td>Adds an element at \n",
    "  the specified position</td></tr>\n",
    "<tr><td><a href=\"ref_list_pop.asp\">pop()</a></td><td>Removes the element at the \n",
    "  specified position</td></tr>\n",
    "<tr><td><a href=\"ref_list_remove.asp\">remove()</a></td><td>Removes the  \n",
    "  item with the specified value</td></tr>\n",
    "<tr><td><a href=\"ref_list_reverse.asp\">reverse()</a></td><td>Reverses the order \n",
    "  of the list</td></tr>\n",
    "<tr><td><a href=\"ref_list_sort.asp\">sort()</a></td><td>Sorts the list</td></tr>\n",
    "</tbody></table>\n"
   ]
  },
  {
   "attachments": {},
   "cell_type": "markdown",
   "metadata": {},
   "source": []
  }
 ],
 "metadata": {
  "kernelspec": {
   "display_name": ".venv",
   "language": "python",
   "name": "python3"
  },
  "language_info": {
   "codemirror_mode": {
    "name": "ipython",
    "version": 3
   },
   "file_extension": ".py",
   "mimetype": "text/x-python",
   "name": "python",
   "nbconvert_exporter": "python",
   "pygments_lexer": "ipython3",
   "version": "3.10.6"
  },
  "orig_nbformat": 4
 },
 "nbformat": 4,
 "nbformat_minor": 2
}
