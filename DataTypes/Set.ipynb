{
 "cells": [
  {
   "attachments": {},
   "cell_type": "markdown",
   "metadata": {},
   "source": [
    "# Set\n",
    "`syntax`::myset={\"apple\",\"banana\",\"cherry\"}"
   ]
  },
  {
   "attachments": {},
   "cell_type": "markdown",
   "metadata": {},
   "source": [
    "### Set\n",
    "sets are used to store multiple items in a single variable.\n",
    "<br>\n",
    "Set is one of the 4 built in data types in python used to store collections of data ,the other 3 are `list`,`tuple`,and `dictionary`.all with different qualities and usage.\n",
    "<br>\n",
    "A set is a collection which is unordered ,unchangeable,and unidexed\n",
    "<br>`note::` Set items are unchangeable ,but you can remove and add new items into the set<br>\n",
    "<br>\n",
    "Sets are written with curly braces\n"
   ]
  },
  {
   "cell_type": "code",
   "execution_count": 1,
   "metadata": {},
   "outputs": [
    {
     "name": "stdout",
     "output_type": "stream",
     "text": [
      "{'apple', 'cherry', 'banana'}\n"
     ]
    }
   ],
   "source": [
    "# Create a set:\n",
    "thisset={\"apple\",\"banana\",\"cherry\"}\n",
    "print(thisset)"
   ]
  },
  {
   "attachments": {},
   "cell_type": "markdown",
   "metadata": {},
   "source": [
    "`note:: ` Sets are unordered ,so you can be sure in which order the items will appear."
   ]
  },
  {
   "attachments": {},
   "cell_type": "markdown",
   "metadata": {},
   "source": [
    "### Set Items\n",
    "Set items are unordered,unchangeable,and do not allow duplicate values .\n",
    "### Unordered\n",
    "unordered means that the items in the set do not have a defined order.\n",
    "<br>\n",
    "Set items can appear in a different order every time you use them ,and cannot be reffered to by index or key.\n",
    "### Unchangeable\n",
    "Set items are unchangeable,meaning that we cannot change the items after set has been created.\n",
    " <br>\n",
    " Once a set is created ,you cannot change its items ,but you can remove or add new items .\n",
    " ### Duplicates Not allowed\n",
    " Sets cannot hava two items with same value.\n",
    " "
   ]
  },
  {
   "cell_type": "code",
   "execution_count": 2,
   "metadata": {},
   "outputs": [
    {
     "name": "stdout",
     "output_type": "stream",
     "text": [
      "{'apple', 'cherry', 'banana'}\n"
     ]
    }
   ],
   "source": [
    "# duplicates values will be ignored:\n",
    "thisset={\"apple\",\"banana\",\"cherry\",\"apple\"}\n",
    "print(thisset)"
   ]
  },
  {
   "attachments": {},
   "cell_type": "markdown",
   "metadata": {},
   "source": [
    "`note:: `the values True and 1 are considered the same value in sets,and are treated as duplicates:"
   ]
  },
  {
   "cell_type": "code",
   "execution_count": 3,
   "metadata": {},
   "outputs": [
    {
     "name": "stdout",
     "output_type": "stream",
     "text": [
      "{'apple', True, 2, 'bananan', 'cherry'}\n"
     ]
    }
   ],
   "source": [
    "# True and 1 considered the same value:\n",
    "thisset={\"apple\",\"bananan\",\"cherry\",True,1,2}\n",
    "print(thisset)"
   ]
  },
  {
   "attachments": {},
   "cell_type": "markdown",
   "metadata": {},
   "source": [
    "### Get the length of Set\n",
    "TO determine how many items a set has ,use the `len()` function"
   ]
  },
  {
   "cell_type": "code",
   "execution_count": 4,
   "metadata": {},
   "outputs": [
    {
     "name": "stdout",
     "output_type": "stream",
     "text": [
      "3\n"
     ]
    }
   ],
   "source": [
    "# Get the total number of items in a set\n",
    "thisset={\"apple\",\"banana\",\"cherry\"}\n",
    "print(len(thisset))"
   ]
  },
  {
   "attachments": {},
   "cell_type": "markdown",
   "metadata": {},
   "source": [
    "### Set items -Data Types:\n",
    "Set items can be of any data type:"
   ]
  },
  {
   "cell_type": "code",
   "execution_count": 5,
   "metadata": {},
   "outputs": [
    {
     "name": "stdout",
     "output_type": "stream",
     "text": [
      "{'apple', 'cherry', 'banana'}\n",
      "{1, 3, 5, 7, 9}\n",
      "{False, True}\n"
     ]
    }
   ],
   "source": [
    "# String,int ,boolean data types:\n",
    "set1={\"apple\",\"banana\",\"cherry\"}\n",
    "set2={1,5,7,9,3}\n",
    "set3={True,False,False}\n",
    "print(set1)\n",
    "print(set2)\n",
    "print(set3)"
   ]
  },
  {
   "attachments": {},
   "cell_type": "markdown",
   "metadata": {},
   "source": [
    "A set can contain different data types:\n"
   ]
  },
  {
   "cell_type": "code",
   "execution_count": 6,
   "metadata": {},
   "outputs": [
    {
     "name": "stdout",
     "output_type": "stream",
     "text": [
      "{True, 34, 'abc', 'male', 40}\n"
     ]
    }
   ],
   "source": [
    "# A set with strings,integers,and boolean values:\n",
    "set1={\"abc\",34,True,40,\"male\"}\n",
    "print(set1)"
   ]
  },
  {
   "attachments": {},
   "cell_type": "markdown",
   "metadata": {},
   "source": [
    "### type()\n",
    "From Python's perspective ,sets are defined as objects with the data type set:<br>\n",
    "<class 'set'>"
   ]
  },
  {
   "cell_type": "code",
   "execution_count": 7,
   "metadata": {},
   "outputs": [
    {
     "name": "stdout",
     "output_type": "stream",
     "text": [
      "{'apple', 'cherry', 'banana'}\n"
     ]
    }
   ],
   "source": [
    "# what is the data type of set?\n",
    "myset={\"apple\",\"banana\",\"cherry\"}\n",
    "print(myset)"
   ]
  },
  {
   "attachments": {},
   "cell_type": "markdown",
   "metadata": {},
   "source": [
    "### The set() Constructor\n",
    "It is also possible to the set() constructor to make a set"
   ]
  },
  {
   "cell_type": "code",
   "execution_count": 8,
   "metadata": {},
   "outputs": [
    {
     "name": "stdout",
     "output_type": "stream",
     "text": [
      "{'apple', 'cherry', 'banana'}\n"
     ]
    }
   ],
   "source": [
    "# Using the set() constructor to make a set\n",
    "thisset=set((\"apple\",\"banana\",\"cherry\"))\n",
    "print(thisset)"
   ]
  },
  {
   "attachments": {},
   "cell_type": "markdown",
   "metadata": {},
   "source": [
    "### Access Set Items\n",
    "You cannot access the items in a set by referring to an index or a key.<br>\n",
    "But you can loop through the set items using a for loop .or ask if a specified value is present in a set ,by using the in keyword"
   ]
  },
  {
   "cell_type": "code",
   "execution_count": 9,
   "metadata": {},
   "outputs": [
    {
     "name": "stdout",
     "output_type": "stream",
     "text": [
      "apple\n",
      "cherry\n",
      "banana\n"
     ]
    }
   ],
   "source": [
    "# Loop through the set ,and print values:\n",
    "thisset={\"apple\",\"banana\",\"cherry\"}\n",
    "for x in thisset:\n",
    "    print(x)\n"
   ]
  },
  {
   "cell_type": "code",
   "execution_count": 10,
   "metadata": {},
   "outputs": [
    {
     "name": "stdout",
     "output_type": "stream",
     "text": [
      "True\n"
     ]
    }
   ],
   "source": [
    "# check if \"banana\" is present in the set:\n",
    "thisset={\"apple\",\"banana\",\"cherry\"}\n",
    "print(\"banana\" in thisset)"
   ]
  },
  {
   "attachments": {},
   "cell_type": "markdown",
   "metadata": {},
   "source": [
    "### Change Items\n",
    "Once a set is created ,you cannot change its items ,but you can add new items."
   ]
  },
  {
   "attachments": {},
   "cell_type": "markdown",
   "metadata": {},
   "source": [
    "### Add Set Items\n",
    "##### Add Items\n",
    "Once a set is created ,You cannot change its items,but you can add new items."
   ]
  },
  {
   "attachments": {},
   "cell_type": "markdown",
   "metadata": {},
   "source": [
    "To add one item to a set use the `add()` method."
   ]
  },
  {
   "cell_type": "code",
   "execution_count": 1,
   "metadata": {},
   "outputs": [
    {
     "name": "stdout",
     "output_type": "stream",
     "text": [
      "{'cherry', 'apple', 'orange', 'banana'}\n"
     ]
    }
   ],
   "source": [
    "#Add one item to a set use the add() method\n",
    "thisset={\"apple\",\"banana\",\"cherry\"}\n",
    "thisset.add(\"orange\")\n",
    "print(thisset)"
   ]
  },
  {
   "attachments": {},
   "cell_type": "markdown",
   "metadata": {},
   "source": [
    "### Add Sets\n",
    "to add items from another set into the current set ,use the `update()` Method\n"
   ]
  },
  {
   "cell_type": "code",
   "execution_count": 2,
   "metadata": {},
   "outputs": [
    {
     "name": "stdout",
     "output_type": "stream",
     "text": [
      "{'apple', 'banana', 'pineapple', 'cherry', 'papaya', 'mango'}\n"
     ]
    }
   ],
   "source": [
    "# Add elements from tropical into thisset:\n",
    "thisset={\"apple\",\"banana\",\"cherry\"}\n",
    "tropical={\"pineapple\",\"mango\",\"papaya\"}\n",
    "thisset.update(tropical)\n",
    "print(thisset)"
   ]
  },
  {
   "attachments": {},
   "cell_type": "markdown",
   "metadata": {},
   "source": [
    "### Add any iterable\n",
    "The object in the `update()` method does not to be a set,it can be any iterable object [tuple,dict,list]"
   ]
  },
  {
   "cell_type": "code",
   "execution_count": 3,
   "metadata": {},
   "outputs": [
    {
     "name": "stdout",
     "output_type": "stream",
     "text": [
      "{'apple', 'banana', 'kiwi', 'orange', 'cherry'}\n"
     ]
    }
   ],
   "source": [
    "# Add elements of list to at set\n",
    "thisset={\"apple\",\"banana\",\"cherry\"}\n",
    "mylist=[\"kiwi\",\"orange\"]\n",
    "thisset.update(mylist)\n",
    "print(thisset)"
   ]
  },
  {
   "attachments": {},
   "cell_type": "markdown",
   "metadata": {},
   "source": [
    "### Remove set items"
   ]
  },
  {
   "attachments": {},
   "cell_type": "markdown",
   "metadata": {},
   "source": [
    "### Remove the Item in set\n",
    "TO Remove the item in the set use,`remove()` or `discard()` method"
   ]
  },
  {
   "cell_type": "code",
   "execution_count": 2,
   "metadata": {},
   "outputs": [
    {
     "name": "stdout",
     "output_type": "stream",
     "text": [
      "{'cherry', 'apple'}\n"
     ]
    }
   ],
   "source": [
    "# remove the 'banana' by using the 'remove()' method\n",
    "thisset={\"apple\",\"banana\",\"cherry\"}\n",
    "thisset.remove(\"banana\")\n",
    "print(thisset)"
   ]
  },
  {
   "attachments": {},
   "cell_type": "markdown",
   "metadata": {},
   "source": [
    "`note`: if the item to remove is not exist in the set, `discard()` method will NOT raise error"
   ]
  },
  {
   "attachments": {},
   "cell_type": "markdown",
   "metadata": {},
   "source": [
    "You can also use the pop() method to remove an item,But this method will remove a random item,So you can't sure  what item that gets removed.the return value of pop() method is that removing item."
   ]
  },
  {
   "cell_type": "code",
   "execution_count": 4,
   "metadata": {},
   "outputs": [
    {
     "name": "stdout",
     "output_type": "stream",
     "text": [
      "{'cherry', 'apple'}\n"
     ]
    }
   ],
   "source": [
    "# remove a random item by using the pop() method\n",
    "thisset={\"apple\",\"banana\",\"cherry\"}\n",
    "thisset.pop()\n",
    "print(thisset)"
   ]
  },
  {
   "attachments": {},
   "cell_type": "markdown",
   "metadata": {},
   "source": [
    "`note:` sets are unordered ,so when we using the pop() method,we dont know which item gets removed"
   ]
  },
  {
   "cell_type": "code",
   "execution_count": 5,
   "metadata": {},
   "outputs": [
    {
     "name": "stdout",
     "output_type": "stream",
     "text": [
      "set()\n"
     ]
    }
   ],
   "source": [
    "# clear method empties the set\n",
    "thisset={\"apple\",\"banana\",\"cherry\",\"danemma\"}\n",
    "thisset.clear()\n",
    "print(thisset)"
   ]
  },
  {
   "cell_type": "code",
   "execution_count": 6,
   "metadata": {},
   "outputs": [
    {
     "ename": "NameError",
     "evalue": "name 'thisset' is not defined",
     "output_type": "error",
     "traceback": [
      "\u001b[0;31m---------------------------------------------------------------------------\u001b[0m",
      "\u001b[0;31mNameError\u001b[0m                                 Traceback (most recent call last)",
      "Cell \u001b[0;32mIn[6], line 4\u001b[0m\n\u001b[1;32m      2\u001b[0m thisset \u001b[39m=\u001b[39m{\u001b[39m\"\u001b[39m\u001b[39mbraham\u001b[39m\u001b[39m\"\u001b[39m,\u001b[39m\"\u001b[39m\u001b[39mkiran\u001b[39m\u001b[39m\"\u001b[39m,\u001b[39m\"\u001b[39m\u001b[39mvinod\u001b[39m\u001b[39m\"\u001b[39m,\u001b[39m\"\u001b[39m\u001b[39mmurthy\u001b[39m\u001b[39m\"\u001b[39m}\n\u001b[1;32m      3\u001b[0m \u001b[39mdel\u001b[39;00m thisset\n\u001b[0;32m----> 4\u001b[0m \u001b[39mprint\u001b[39m(thisset)\n",
      "\u001b[0;31mNameError\u001b[0m: name 'thisset' is not defined"
     ]
    }
   ],
   "source": [
    "# del keyword is delete the set completely\n",
    "thisset ={\"braham\",\"kiran\",\"vinod\",\"murthy\"}\n",
    "del thisset\n",
    "print(thisset)"
   ]
  },
  {
   "cell_type": "code",
   "execution_count": 8,
   "metadata": {},
   "outputs": [
    {
     "name": "stdout",
     "output_type": "stream",
     "text": [
      "Rakesh\n",
      "Vinod\n",
      "brahma\n",
      "kiran\n"
     ]
    }
   ],
   "source": [
    "### Loop Sets\n",
    "##### Loop Items:\n",
    "thisset={\"brahma\",\"Rakesh\",\"Vinod\",\"kiran\"}\n",
    "for x in thisset:\n",
    "    print(x)"
   ]
  },
  {
   "attachments": {},
   "cell_type": "markdown",
   "metadata": {},
   "source": [
    "### Join Sets\n",
    "##### Join Two Sets\n",
    "There are several ways in python to sets the two or more sets\n",
    "<br> You can use `union()` method that returns a new set containing all elements from both sets,or the `update()` method that inserts all items from one set to another set"
   ]
  },
  {
   "cell_type": "code",
   "execution_count": 9,
   "metadata": {},
   "outputs": [
    {
     "name": "stdout",
     "output_type": "stream",
     "text": [
      "{1, 2, 3, 'd', 'b', 'c', 'a'}\n"
     ]
    }
   ],
   "source": [
    "# the union() returns a new set with all items from both sets:\n",
    "set1={\"a\",\"b\",\"c\",\"d\"}\n",
    "set2={1,2,3}\n",
    "set3=set1.union(set2)\n",
    "print(set3)"
   ]
  },
  {
   "cell_type": "code",
   "execution_count": 10,
   "metadata": {},
   "outputs": [
    {
     "name": "stdout",
     "output_type": "stream",
     "text": [
      "{1, 2, 3, 4, 'b', 'a'}\n"
     ]
    }
   ],
   "source": [
    "# update method inserts the items in set2 into set1:\n",
    "set1={\"a\",\"b\"}\n",
    "set2={1,2,3,4}\n",
    "set1.update(set2)\n",
    "print(set1)"
   ]
  },
  {
   "cell_type": "code",
   "execution_count": null,
   "metadata": {},
   "outputs": [],
   "source": [
    "'note':: Both union(),and update() will exclude any duplicate items."
   ]
  },
  {
   "attachments": {},
   "cell_type": "markdown",
   "metadata": {},
   "source": [
    "##### Keep only the duplicates\n",
    "the intersection_update() method will keep only the items that are present in both sets.\n"
   ]
  },
  {
   "cell_type": "code",
   "execution_count": 11,
   "metadata": {},
   "outputs": [
    {
     "name": "stdout",
     "output_type": "stream",
     "text": [
      "{'apple'}\n"
     ]
    }
   ],
   "source": [
    "# keep the items that exist in both setx,sety:\n",
    "x={\"apple\",\"banana\",\"cherry\"}\n",
    "y={\"google\",\"microsoft\",\"apple\"}\n",
    "x.intersection_update(y)\n",
    "print(x)"
   ]
  },
  {
   "attachments": {},
   "cell_type": "markdown",
   "metadata": {},
   "source": [
    "The `intersection()` method will return a new set ,that only contains the items that are present in the both sets"
   ]
  },
  {
   "cell_type": "code",
   "execution_count": 12,
   "metadata": {},
   "outputs": [
    {
     "name": "stdout",
     "output_type": "stream",
     "text": [
      "{'apple'}\n"
     ]
    }
   ],
   "source": [
    "# Return a set that contains items that exist in both set x and set y:\n",
    "x={\"apple\",\"banana\",\"cherry\"}\n",
    "y={\"google\",\"microsoft\",\"apple\"}\n",
    "z=x.intersection(y)\n",
    "print(z)"
   ]
  },
  {
   "attachments": {},
   "cell_type": "markdown",
   "metadata": {},
   "source": [
    "### keep All ,But Not the duplicates\n",
    "The `symmetric_difference_update()` method will keep only the elements that are not in both sets."
   ]
  },
  {
   "cell_type": "code",
   "execution_count": 1,
   "metadata": {},
   "outputs": [
    {
     "name": "stdout",
     "output_type": "stream",
     "text": [
      "{'google', 'cherry', 'microsoft', 'banana'}\n"
     ]
    }
   ],
   "source": [
    "#Keep the items that are not in both sets:\n",
    "x={\"apple\",\"banana\",\"cherry\"}\n",
    "y={\"google\",\"microsoft\",\"apple\"}\n",
    "x.symmetric_difference_update(y)\n",
    "print(x)"
   ]
  },
  {
   "attachments": {},
   "cell_type": "markdown",
   "metadata": {},
   "source": [
    "The symmetric_difference() method will return a new set,that contains only the elements that are not present in both sets"
   ]
  },
  {
   "cell_type": "code",
   "execution_count": 2,
   "metadata": {},
   "outputs": [
    {
     "name": "stdout",
     "output_type": "stream",
     "text": [
      "{'google', 'microsofr', 'cherry', 'banana'}\n"
     ]
    }
   ],
   "source": [
    "# return a set that contains all items from both sets,except items that are Present in both\n",
    "x={\"apple\",\"banana\",\"cherry\"}\n",
    "y={\"google\",\"microsofr\",\"apple\"}\n",
    "z=x.symmetric_difference(y)\n",
    "print(z)"
   ]
  },
  {
   "attachments": {},
   "cell_type": "markdown",
   "metadata": {},
   "source": [
    "`note::`The values True and 1 are considered the same value in  sets,and are treated as duplicates:"
   ]
  },
  {
   "cell_type": "code",
   "execution_count": 3,
   "metadata": {},
   "outputs": [
    {
     "name": "stdout",
     "output_type": "stream",
     "text": [
      "{2, 'google', 'cherry', 'banana'}\n"
     ]
    }
   ],
   "source": [
    "# True and 1 is considered the same value:\n",
    "x={\"apple\",\"banana\",\"cherry\",True}\n",
    "y={\"google\",1,\"apple\",2}\n",
    "z=x.symmetric_difference(y)\n",
    "print(z)"
   ]
  },
  {
   "attachments": {},
   "cell_type": "markdown",
   "metadata": {},
   "source": [
    "### Set Methods\n",
    "<table class=\"ws-table-all notranslate\">\n",
    "<tbody><tr>\n",
    "<th>Method</th>\n",
    "<th>Description</th>\n",
    "</tr>\n",
    "<tr><td><a href=\"ref_set_add.asp\">add()</a></td><td>Adds an element to the \n",
    "  set</td></tr>\n",
    "<tr><td><a href=\"ref_set_clear.asp\">clear()</a></td><td>Removes all the \n",
    "  elements from the set</td></tr>\n",
    "<tr><td><a href=\"ref_set_copy.asp\">copy()</a></td><td>Returns a copy of the set</td></tr>\n",
    "  <tr>\n",
    "    <td><a href=\"ref_set_difference.asp\">difference()</a></td><td>Returns a set \n",
    "    containing the difference between two or more sets</td>\n",
    "  </tr>\n",
    "  <tr>\n",
    "    <td><a href=\"ref_set_difference_update.asp\">difference_update()</a></td><td>Removes the \n",
    "    items in this set that are also included in another, specified set</td>\n",
    "  </tr>\n",
    "<tr><td><a href=\"ref_set_discard.asp\">discard()</a></td><td>Remove the specified \n",
    "  item</td></tr>\n",
    "  <tr>\n",
    "    <td><a href=\"ref_set_intersection.asp\">intersection()</a></td><td>Returns a set, \n",
    "    that is the intersection of two other sets</td>\n",
    "  </tr>\n",
    "<tr><td><a href=\"ref_set_intersection_update.asp\">intersection_update()</a></td><td>\n",
    "  Removes the items in this set that are not present in other, specified set(s)</td></tr>\n",
    "  <tr>\n",
    "    <td><a href=\"ref_set_isdisjoint.asp\">isdisjoint()</a></td><td>Returns whether \n",
    "    two sets have a intersection or not</td>\n",
    "  </tr>\n",
    "  <tr>\n",
    "    <td><a href=\"ref_set_issubset.asp\">issubset()</a></td><td>Returns whether \n",
    "    another set contains this set or not</td>\n",
    "  </tr>\n",
    "<tr><td><a href=\"ref_set_issuperset.asp\">issuperset()</a></td><td>Returns whether \n",
    "  this set contains another set or not</td></tr>\n",
    "<tr><td><a href=\"ref_set_pop.asp\">pop()</a></td><td>Removes an element from the \n",
    "  set</td></tr>\n",
    "<tr><td><a href=\"ref_set_remove.asp\">remove()</a></td><td>Removes the specified element</td></tr>\n",
    "  <tr>\n",
    "    <td><a href=\"ref_set_symmetric_difference.asp\">symmetric_difference()</a></td><td>Returns \n",
    "    a set with the symmetric differences of two sets</td>\n",
    "  </tr>\n",
    "<tr><td><a href=\"ref_set_symmetric_difference_update.asp\">symmetric_difference_update()</a></td><td>\n",
    "  inserts the symmetric differences from this set and another</td></tr>\n",
    "  <tr>\n",
    "    <td><a href=\"ref_set_union.asp\">union()</a></td><td>Return a set containing \n",
    "    the union of sets</td>\n",
    "  </tr>\n",
    "<tr><td><a href=\"ref_set_update.asp\">update()</a></td><td>Update the set with the \n",
    "  union of this set and others</td></tr>\n",
    "</tbody></table>"
   ]
  },
  {
   "attachments": {},
   "cell_type": "markdown",
   "metadata": {},
   "source": []
  }
 ],
 "metadata": {
  "kernelspec": {
   "display_name": ".venv",
   "language": "python",
   "name": "python3"
  },
  "language_info": {
   "codemirror_mode": {
    "name": "ipython",
    "version": 3
   },
   "file_extension": ".py",
   "mimetype": "text/x-python",
   "name": "python",
   "nbconvert_exporter": "python",
   "pygments_lexer": "ipython3",
   "version": "3.10.6"
  },
  "orig_nbformat": 4
 },
 "nbformat": 4,
 "nbformat_minor": 2
}
