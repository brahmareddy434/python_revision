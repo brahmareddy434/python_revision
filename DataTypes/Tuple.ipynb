{
 "cells": [
  {
   "attachments": {},
   "cell_type": "markdown",
   "metadata": {},
   "source": [
    "# TUPLE"
   ]
  },
  {
   "attachments": {},
   "cell_type": "markdown",
   "metadata": {},
   "source": [
    "`syntax:`mytuple=(\"apple\",\"banana\",\"cherry\")\n",
    "<br>Tuples are used to store multiple items in a single variable.<br>\n",
    "Tuple is one of the 4 built in data types in python used to store collections of data,the other 3 are `list`,`set`,`dictionary` all with different qualities and usage<br><br>\n",
    "A Tuple is collection which is ordered and unchangable<br>\n",
    "tuples are written in rounded brackets"
   ]
  },
  {
   "cell_type": "code",
   "execution_count": 1,
   "metadata": {},
   "outputs": [
    {
     "name": "stdout",
     "output_type": "stream",
     "text": [
      "('brahma', 'rakesh', 'sharan', 'tamil', 'Softsuave')\n"
     ]
    }
   ],
   "source": [
    "#create a tuple::\n",
    "thistuple=(\"brahma\",\"rakesh\",\"sharan\",\"tamil\",\"Softsuave\")\n",
    "print(thistuple)"
   ]
  },
  {
   "attachments": {},
   "cell_type": "markdown",
   "metadata": {},
   "source": [
    "### Tuple items::\n",
    "Tuple items are ordered,unchangable,and allow duplicate values.<br>\n",
    "Tuple items are indexed,the first item has index [0],the second item has index [1] etc..<br>\n",
    "### Ordered\n",
    "when we say that tuples are ordered,it means that the items have a defined order,and that order will not change\n",
    "### Unchangeable\n",
    "Tuples are unchangeable,meaning that we cannot change,add or remove items after the tuple has been created.\n",
    "### Allow duplicates\n",
    "Since tuples  are indexed,they can have items with the same value:"
   ]
  },
  {
   "cell_type": "code",
   "execution_count": 3,
   "metadata": {},
   "outputs": [
    {
     "name": "stdout",
     "output_type": "stream",
     "text": [
      "('tamil', 'brahma', 'rakesh', 'tamil')\n"
     ]
    }
   ],
   "source": [
    "#tuples allow duplicate values:\n",
    "thistuple=(\"tamil\",\"brahma\",\"rakesh\",\"tamil\")\n",
    "print(thistuple)"
   ]
  },
  {
   "attachments": {},
   "cell_type": "markdown",
   "metadata": {},
   "source": [
    "### Tuple Length\n",
    "To determine how many items a tuple has,use the `len()` function:"
   ]
  },
  {
   "cell_type": "code",
   "execution_count": 5,
   "metadata": {},
   "outputs": [
    {
     "name": "stdout",
     "output_type": "stream",
     "text": [
      "3\n"
     ]
    }
   ],
   "source": [
    "# print the number of items in a tuple\n",
    "this=(\"king\",4,\"tamil\")\n",
    "length=len(this)\n",
    "print(length)"
   ]
  },
  {
   "attachments": {},
   "cell_type": "markdown",
   "metadata": {},
   "source": [
    "### Create a tuple with one item\n",
    "To create a tuple with only one item,you have to add a comma after the item,otherwise python will not recognize it as a tuple"
   ]
  },
  {
   "cell_type": "code",
   "execution_count": 6,
   "metadata": {},
   "outputs": [
    {
     "name": "stdout",
     "output_type": "stream",
     "text": [
      "<class 'tuple'>\n",
      "<class 'str'>\n"
     ]
    }
   ],
   "source": [
    "# One item tuple,remember the comma:\n",
    "thistupe=(\"brahma\",)\n",
    "print(type(thistuple))\n",
    "## not a tuple::\n",
    "this=(\"brahma\")\n",
    "print(type(this))"
   ]
  },
  {
   "attachments": {},
   "cell_type": "markdown",
   "metadata": {},
   "source": [
    "### Tuple Items -Data Types\n",
    "Tuple items can be of any data type:"
   ]
  },
  {
   "cell_type": "code",
   "execution_count": 8,
   "metadata": {},
   "outputs": [
    {
     "name": "stdout",
     "output_type": "stream",
     "text": [
      "('apple', 'banana', 'cherry')\n",
      "(1, 2, 3, 4)\n",
      "(True, False, False)\n"
     ]
    }
   ],
   "source": [
    "# string,int,and boolean data types:\n",
    "tuple1=(\"apple\",\"banana\",\"cherry\")\n",
    "tuple2=(1,2,3,4)\n",
    "tuple3=(True,False,False)\n",
    "print(tuple1)\n",
    "print(tuple2)\n",
    "print(tuple3)"
   ]
  },
  {
   "cell_type": "code",
   "execution_count": 9,
   "metadata": {},
   "outputs": [
    {
     "name": "stdout",
     "output_type": "stream",
     "text": [
      "('brahma', 4, True)\n"
     ]
    }
   ],
   "source": [
    "# A tuple can have a different data types::\n",
    "# a tuple with a string,int,boolean values::\n",
    "tuple1=(\"brahma\",4,True)\n",
    "print(tuple1)"
   ]
  },
  {
   "attachments": {},
   "cell_type": "markdown",
   "metadata": {},
   "source": [
    "### Type()\n",
    "From python's perspective,tuples are defined as objects with data type 'tuple':\n",
    "<class 'tuple'>"
   ]
  },
  {
   "cell_type": "code",
   "execution_count": 25,
   "metadata": {},
   "outputs": [
    {
     "name": "stdout",
     "output_type": "stream",
     "text": [
      "<class 'tuple'>\n",
      "<class 'type'>\n",
      "<class 'tuple'>\n"
     ]
    }
   ],
   "source": [
    "# what is the data type of tuple::\n",
    "tuple2=(\"brahma\",)\n",
    "st=type(tuple2)\n",
    "print(st)\n",
    "print(type(st))\n",
    "print(st)"
   ]
  },
  {
   "attachments": {},
   "cell_type": "markdown",
   "metadata": {},
   "source": [
    "### The tuple() Constructor\n",
    "it is also possible to use the tuple() constructor to make a tuple."
   ]
  },
  {
   "cell_type": "code",
   "execution_count": 44,
   "metadata": {},
   "outputs": [
    {
     "name": "stdout",
     "output_type": "stream",
     "text": [
      "('apple', 'banana', 'cherry')\n"
     ]
    }
   ],
   "source": [
    "# using the tuple() method to make a tuple:\n",
    "my_list = [\"apple\", \"banana\", \"cherry\"]\n",
    "my_tuple = tuple(my_list)\n",
    "print(my_tuple)"
   ]
  },
  {
   "attachments": {},
   "cell_type": "markdown",
   "metadata": {},
   "source": [
    "### Access tuple items::\n",
    "you can access tuple items by referring to index number,inside the square brackets:"
   ]
  },
  {
   "cell_type": "code",
   "execution_count": 29,
   "metadata": {},
   "outputs": [
    {
     "name": "stdout",
     "output_type": "stream",
     "text": [
      "kiran\n"
     ]
    }
   ],
   "source": [
    "# print the second item in the tuple:\n",
    "tuples=(\"brahma\",\"kiran\")\n",
    "print(tuples[1])"
   ]
  },
  {
   "attachments": {},
   "cell_type": "markdown",
   "metadata": {},
   "source": [
    "`note::`The first item has index 0"
   ]
  },
  {
   "attachments": {},
   "cell_type": "markdown",
   "metadata": {},
   "source": [
    "### negative indexing::\n",
    "negative indexing means start from the end.\n",
    "-1 refers to the last item , -2 refers to the second last item etc."
   ]
  },
  {
   "cell_type": "code",
   "execution_count": 30,
   "metadata": {},
   "outputs": [
    {
     "name": "stdout",
     "output_type": "stream",
     "text": [
      "cherry\n"
     ]
    }
   ],
   "source": [
    "# print the last item in the tuple:\n",
    "thistuple=(\"brahma\",\"kiran\",\"cherry\")\n",
    "print(thistuple[-1])"
   ]
  },
  {
   "attachments": {},
   "cell_type": "markdown",
   "metadata": {},
   "source": [
    "### Range of indexes\n",
    "You can specify a range of indexes by specifying where to start and where to end the range\n",
    "<br>when specifying a range,the return value will be a new tuple with the specified items."
   ]
  },
  {
   "cell_type": "code",
   "execution_count": 31,
   "metadata": {},
   "outputs": [
    {
     "name": "stdout",
     "output_type": "stream",
     "text": [
      "('cherry', 'orange', 'kiwi')\n"
     ]
    }
   ],
   "source": [
    "# return the third fourth,fifth,item:\n",
    "thistuple=(\"apple\",\"banana\",\"cherry\",\"orange\",\"kiwi\",\"melon\",\"mango\")\n",
    "print(thistuple[2:5])"
   ]
  },
  {
   "attachments": {},
   "cell_type": "markdown",
   "metadata": {},
   "source": [
    "`note:`The search will start at index 2 and end at index 5(not included)<br>Remember the first index is 0"
   ]
  },
  {
   "attachments": {},
   "cell_type": "markdown",
   "metadata": {},
   "source": [
    "By leaving the start value,the range will start at the first item:\n"
   ]
  },
  {
   "cell_type": "code",
   "execution_count": 32,
   "metadata": {},
   "outputs": [
    {
     "name": "stdout",
     "output_type": "stream",
     "text": [
      "('apple', 'banana', 'cherry', 'orange')\n"
     ]
    }
   ],
   "source": [
    "# this example returns the items from the begining to,but Not included,'kiwi'\n",
    "thistuple=(\"apple\",\"banana\",\"cherry\",\"orange\",\"kiwi\",\"melon\",\"mango\")\n",
    "print(thistuple[:4])"
   ]
  },
  {
   "attachments": {},
   "cell_type": "markdown",
   "metadata": {},
   "source": [
    "By leaving the end value,the range will go on to the end of the list:"
   ]
  },
  {
   "cell_type": "code",
   "execution_count": 33,
   "metadata": {},
   "outputs": [
    {
     "name": "stdout",
     "output_type": "stream",
     "text": [
      "('cherry', 'orange', 'kiwi', 'melon', 'mango')\n"
     ]
    }
   ],
   "source": [
    "# this example returns the items from \"cherry\" and to the end:\n",
    "thistuple=(\"apple\",\"banana\",\"cherry\",\"orange\",\"kiwi\",\"melon\",\"mango\")\n",
    "print(thistuple[2:])"
   ]
  },
  {
   "attachments": {},
   "cell_type": "markdown",
   "metadata": {},
   "source": [
    "### Range of Negative Indexes\n",
    "Specify negative indexes if you want to search from the end of tuple:"
   ]
  },
  {
   "cell_type": "code",
   "execution_count": 36,
   "metadata": {},
   "outputs": [
    {
     "name": "stdout",
     "output_type": "stream",
     "text": [
      "('orange', 'kiwi', 'melon')\n"
     ]
    }
   ],
   "source": [
    "# this example returns the items from index -4 (included) to index -1(excluded)\n",
    "thistupl=(\"apple\",\"banana\",\"cherry\",\"orange\",\"kiwi\",\"melon\",\"mango\")\n",
    "print(thistuple[-4:-1])"
   ]
  },
  {
   "attachments": {},
   "cell_type": "markdown",
   "metadata": {},
   "source": [
    "### Check if Item Exists\n",
    "To determine id a specified item is present in a tuple use the `in` keyword:\n"
   ]
  },
  {
   "cell_type": "code",
   "execution_count": 37,
   "metadata": {},
   "outputs": [
    {
     "name": "stdout",
     "output_type": "stream",
     "text": [
      "yes\n"
     ]
    }
   ],
   "source": [
    "# check if \"apple\" is present in the tuple:\n",
    "\n",
    "thistuple=(\"king\",\"apple\",\"orange\")\n",
    "if \"apple\" in thistuple:\n",
    "    print(\"yes\")\n",
    "else:\n",
    "    print(\"No\")\n"
   ]
  },
  {
   "attachments": {},
   "cell_type": "markdown",
   "metadata": {},
   "source": [
    "### update Tuples\n",
    "Tuples are unchangeable,meaning that you cannot change,add,or remove items once the tupe is created.\n",
    "But there are some workarounds.\n",
    "\n",
    "## change tuple values\n",
    "once a tuple is created ,you cannot change its values.tuples are unchangeable or immutable as it also is called.<br>\n",
    "But there is a workaround.You can convert the tuple into list,change the list,and convert the list back into tuple."
   ]
  },
  {
   "cell_type": "code",
   "execution_count": 43,
   "metadata": {},
   "outputs": [
    {
     "name": "stdout",
     "output_type": "stream",
     "text": [
      "('apple', 'cherry', 'cherry')\n"
     ]
    }
   ],
   "source": [
    "# convert the tuple into a list to be able to change it:\n",
    "x=(\"apple\",\"banana\",\"cherry\")\n",
    "y=list(x)\n",
    "y[1]=\"cherry\"\n",
    "x=tuple(y)\n",
    "print(x)"
   ]
  },
  {
   "attachments": {},
   "cell_type": "markdown",
   "metadata": {},
   "source": [
    "### add items to tuple::\n",
    "directly we cannot add items to tuple because tuple is immutable\n",
    "so we need to convert to list and add items to list and again convert to tuple"
   ]
  },
  {
   "cell_type": "code",
   "execution_count": 42,
   "metadata": {},
   "outputs": [
    {
     "name": "stdout",
     "output_type": "stream",
     "text": [
      "('kiran', 'brahma', 'rakesh')\n"
     ]
    }
   ],
   "source": [
    "x=(\"kiran\",\"brahma\")\n",
    "y=list(x)\n",
    "y.append(\"rakesh\")\n",
    "x=tuple(y)\n",
    "print(x)"
   ]
  },
  {
   "attachments": {},
   "cell_type": "markdown",
   "metadata": {},
   "source": [
    "## remove the items from tuple::\n",
    "we cannot remove the items from tuple directly so we convert tuple to list and do remove operation on list and again convert that list to tuple <br>\n",
    "`tuple->list->tuple`"
   ]
  },
  {
   "attachments": {},
   "cell_type": "markdown",
   "metadata": {},
   "source": [
    "### Or you can delete the tuple completely:\n"
   ]
  },
  {
   "cell_type": "code",
   "execution_count": 45,
   "metadata": {},
   "outputs": [
    {
     "ename": "NameError",
     "evalue": "name 'thistuple' is not defined",
     "output_type": "error",
     "traceback": [
      "\u001b[0;31m---------------------------------------------------------------------------\u001b[0m",
      "\u001b[0;31mNameError\u001b[0m                                 Traceback (most recent call last)",
      "Cell \u001b[0;32mIn[45], line 4\u001b[0m\n\u001b[1;32m      2\u001b[0m thistuple\u001b[39m=\u001b[39m(\u001b[39m\"\u001b[39m\u001b[39mapple\u001b[39m\u001b[39m\"\u001b[39m,\u001b[39m\"\u001b[39m\u001b[39mbanana\u001b[39m\u001b[39m\"\u001b[39m,\u001b[39m\"\u001b[39m\u001b[39mcherry\u001b[39m\u001b[39m\"\u001b[39m)\n\u001b[1;32m      3\u001b[0m \u001b[39mdel\u001b[39;00m thistuple\n\u001b[0;32m----> 4\u001b[0m \u001b[39mprint\u001b[39m(thistuple)\n",
      "\u001b[0;31mNameError\u001b[0m: name 'thistuple' is not defined"
     ]
    }
   ],
   "source": [
    "# the 'del' keyword can delete the tuple completely:\n",
    "thistuple=(\"apple\",\"banana\",\"cherry\")\n",
    "del thistuple\n",
    "print(thistuple)"
   ]
  },
  {
   "cell_type": "code",
   "execution_count": 41,
   "metadata": {},
   "outputs": [],
   "source": [
    "del tuple"
   ]
  },
  {
   "cell_type": "code",
   "execution_count": null,
   "metadata": {},
   "outputs": [],
   "source": []
  }
 ],
 "metadata": {
  "kernelspec": {
   "display_name": ".venv",
   "language": "python",
   "name": "python3"
  },
  "language_info": {
   "codemirror_mode": {
    "name": "ipython",
    "version": 3
   },
   "file_extension": ".py",
   "mimetype": "text/x-python",
   "name": "python",
   "nbconvert_exporter": "python",
   "pygments_lexer": "ipython3",
   "version": "3.10.6"
  },
  "orig_nbformat": 4
 },
 "nbformat": 4,
 "nbformat_minor": 2
}
