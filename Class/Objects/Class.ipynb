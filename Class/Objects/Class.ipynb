{
 "cells": [
  {
   "attachments": {},
   "cell_type": "markdown",
   "metadata": {},
   "source": [
    "# Python Classes and Objects\n",
    "### python classes and objects:\n",
    "Python is an object oriented programming language.<br>\n",
    "Almost everything in python is an object,with its properties and methods <br>\n",
    "A class is like an object constructor,or a \"blueprint\" for creating objects."
   ]
  },
  {
   "attachments": {},
   "cell_type": "markdown",
   "metadata": {},
   "source": [
    "### Create a class\n",
    "TO create a class ,use the keyword `class`"
   ]
  },
  {
   "cell_type": "code",
   "execution_count": 1,
   "metadata": {},
   "outputs": [
    {
     "name": "stdout",
     "output_type": "stream",
     "text": [
      "<class '__main__.MyClass'>\n"
     ]
    }
   ],
   "source": [
    "# create a class named MyClass,with a property named x:\n",
    "class MyClass:\n",
    "    x=5\n",
    "print(MyClass)\n"
   ]
  },
  {
   "attachments": {},
   "cell_type": "markdown",
   "metadata": {},
   "source": [
    "### Create Object:\n",
    "Now we can use the class named MyClass to create objects:"
   ]
  },
  {
   "cell_type": "code",
   "execution_count": 2,
   "metadata": {},
   "outputs": [
    {
     "name": "stdout",
     "output_type": "stream",
     "text": [
      "5\n"
     ]
    }
   ],
   "source": [
    "#create an object named p1,and print the vlaue of x:\n",
    "p1=MyClass()\n",
    "print(p1.x)"
   ]
  },
  {
   "attachments": {},
   "cell_type": "markdown",
   "metadata": {},
   "source": [
    "### The `__init__()` Function\n",
    "The examples above are classes and objects in their simplest form,and are not really useful in real life applications.\n",
    "<br>\n",
    "To Understand the meaning of classes we have to understand the built-in `__init__()` function.<br>\n",
    "All classes have a function called `__init__()`,which is always executed when the class is being initiated.<br>\n",
    "Use the `__init__()` function to assign values to object properties,or other operations that are necessary to do when the object is being created:"
   ]
  },
  {
   "cell_type": "code",
   "execution_count": 3,
   "metadata": {},
   "outputs": [
    {
     "name": "stdout",
     "output_type": "stream",
     "text": [
      "John\n",
      "24\n"
     ]
    }
   ],
   "source": [
    "# Create a class named Person , use the `__init__()` function to assign values for name and age:\n",
    "class Person:\n",
    "    def __init__(self,name,age):\n",
    "        self.name=name\n",
    "        self.age=age\n",
    "p1 = Person(\"John\",24)\n",
    "print(p1.name)\n",
    "print(p1.age)\n"
   ]
  },
  {
   "attachments": {},
   "cell_type": "markdown",
   "metadata": {},
   "source": [
    "`note ::` The `__init__()` is called automatically every time the class object is being create a new object.\n",
    "### The `__str__()` Function\n",
    "The `__str__()` function controls what should be returned when the class object is represented as a string.<br>\n",
    "if the `__str__()` function is not set,the string representation of the object is returned:"
   ]
  },
  {
   "cell_type": "code",
   "execution_count": 4,
   "metadata": {},
   "outputs": [
    {
     "name": "stdout",
     "output_type": "stream",
     "text": [
      "<__main__.Person object at 0x7f6ff4af3cd0>\n"
     ]
    }
   ],
   "source": [
    "# The string representation of an object WITHOUT THE __str__()function\n",
    "class Person:\n",
    "    def __init__(self,name,age):\n",
    "        self.name=name\n",
    "        self.age=age\n",
    "p1=Person(\"John\",36)\n",
    "print(p1)"
   ]
  },
  {
   "cell_type": "code",
   "execution_count": 5,
   "metadata": {},
   "outputs": [
    {
     "name": "stdout",
     "output_type": "stream",
     "text": [
      "Brahma(24)\n"
     ]
    }
   ],
   "source": [
    "# The string representation of an object with __str__() function:\n",
    "class Person:\n",
    "    def __init__(self,name,age):\n",
    "        self.name=name\n",
    "        self.age=age\n",
    "    def __str__(self):\n",
    "        return f\"{self.name}({self.age})\"\n",
    "p1=Person(\"Brahma\",24)\n",
    "print(p1)"
   ]
  },
  {
   "attachments": {},
   "cell_type": "markdown",
   "metadata": {},
   "source": [
    "### Object Methods\n",
    "Objects can also contain methods .Methods in objects are functions that belong to the object.<br>\n",
    "Let us create a method in the person class:"
   ]
  },
  {
   "cell_type": "code",
   "execution_count": 9,
   "metadata": {},
   "outputs": [
    {
     "name": "stdout",
     "output_type": "stream",
     "text": [
      "Hello my name is brahma\n"
     ]
    }
   ],
   "source": [
    "# insert a function that prints a gretting and execute it on the p1 object:\n",
    "class Person:\n",
    "    def __init__(self,name,age):\n",
    "        self.name=name\n",
    "        self.age=age\n",
    "\n",
    "    def myfunc(self):\n",
    "        print(\"Hello my name is \"+ self.name)\n",
    "p1=Person(\"brahma\",24)\n",
    "p1.myfunc()"
   ]
  },
  {
   "attachments": {},
   "cell_type": "markdown",
   "metadata": {},
   "source": [
    "`note::` The self parameter is  a reference to the current class and is used ot access variables that belong to the class"
   ]
  },
  {
   "attachments": {},
   "cell_type": "markdown",
   "metadata": {},
   "source": [
    "\n",
    "### The self parameter:\n",
    "The self parameter is a reference to the current instance of the class,and is used to access variables that belong to the clss.<br>\n",
    "it does not have to be named self, you can call it whatever you like,butit has to be the first parameter of any function in the class "
   ]
  },
  {
   "cell_type": "code",
   "execution_count": 15,
   "metadata": {},
   "outputs": [
    {
     "name": "stdout",
     "output_type": "stream",
     "text": [
      "Hello my name is Brahma\n",
      "None\n"
     ]
    }
   ],
   "source": [
    "# USe the words mysillyobject and abc instead of self\n",
    "class person:\n",
    "    def __init__(mysillyobject,name,age):\n",
    "            mysillyobject.name=name\n",
    "            mysillyobject.age=age\n",
    "    def myfun(abc):\n",
    "        print(\"Hello my name is \"+abc.name)\n",
    "p1=Person(\"Brahma\",24)\n",
    "print(p1.myfunc())\n"
   ]
  },
  {
   "attachments": {},
   "cell_type": "markdown",
   "metadata": {},
   "source": [
    "### Modify the object properties\n",
    "You can modify properties on objects like this:\n",
    "\n"
   ]
  },
  {
   "cell_type": "code",
   "execution_count": 21,
   "metadata": {},
   "outputs": [
    {
     "name": "stdout",
     "output_type": "stream",
     "text": [
      "brahma(24)\n",
      "brahma(30)\n"
     ]
    }
   ],
   "source": [
    "class Person:\n",
    "    def __init__(self,name,age):\n",
    "        self.name=name\n",
    "        self.age=age\n",
    "\n",
    "    def __str__(self):\n",
    "        return f\"{self.name}({self.age})\"\n",
    "\n",
    "p1=Person(\"brahma\",24)\n",
    "print(p1)\n",
    "p1.age=30\n",
    "print(p1)\n"
   ]
  },
  {
   "attachments": {},
   "cell_type": "markdown",
   "metadata": {},
   "source": [
    "### Delete Object Properties\n",
    "You can delete properties on objects by using the `del` keyword:"
   ]
  },
  {
   "cell_type": "code",
   "execution_count": 24,
   "metadata": {},
   "outputs": [
    {
     "name": "stdout",
     "output_type": "stream",
     "text": [
      "Kiran\n",
      "25\n",
      "None\n",
      "Kiran\n"
     ]
    },
    {
     "ename": "AttributeError",
     "evalue": "'Person' object has no attribute 'age'",
     "output_type": "error",
     "traceback": [
      "\u001b[0;31m---------------------------------------------------------------------------\u001b[0m",
      "\u001b[0;31mAttributeError\u001b[0m                            Traceback (most recent call last)",
      "Cell \u001b[0;32mIn[24], line 16\u001b[0m\n\u001b[1;32m     14\u001b[0m \u001b[39mprint\u001b[39m(p1\u001b[39m.\u001b[39mmufun())\n\u001b[1;32m     15\u001b[0m \u001b[39mdel\u001b[39;00m p1\u001b[39m.\u001b[39mage\n\u001b[0;32m---> 16\u001b[0m \u001b[39mprint\u001b[39m(p1\u001b[39m.\u001b[39;49mmufun())\n",
      "Cell \u001b[0;32mIn[24], line 8\u001b[0m, in \u001b[0;36mPerson.mufun\u001b[0;34m(self)\u001b[0m\n\u001b[1;32m      6\u001b[0m \u001b[39mdef\u001b[39;00m \u001b[39mmufun\u001b[39m(\u001b[39mself\u001b[39m):\n\u001b[1;32m      7\u001b[0m     \u001b[39mprint\u001b[39m(\u001b[39mself\u001b[39m\u001b[39m.\u001b[39mname)\n\u001b[0;32m----> 8\u001b[0m     \u001b[39mif\u001b[39;00m \u001b[39mself\u001b[39;49m\u001b[39m.\u001b[39;49mage:\n\u001b[1;32m      9\u001b[0m         \u001b[39mprint\u001b[39m(\u001b[39mself\u001b[39m\u001b[39m.\u001b[39mage)\n\u001b[1;32m     10\u001b[0m     \u001b[39melse\u001b[39;00m:\n",
      "\u001b[0;31mAttributeError\u001b[0m: 'Person' object has no attribute 'age'"
     ]
    }
   ],
   "source": [
    "# Delete the age property from the p1 object\n",
    "class Person:\n",
    "    def __init__(self,name,age):\n",
    "        self.name=name\n",
    "        self.age=age\n",
    "    def mufun(self):\n",
    "        print(self.name)\n",
    "        if self.age:\n",
    "            print(self.age)\n",
    "        else:\n",
    "            print(\"age property is deleted\")\n",
    "\n",
    "p1=Person(\"Kiran\",25)\n",
    "print(p1.mufun())\n",
    "del p1.age\n",
    "print(p1.mufun())"
   ]
  },
  {
   "attachments": {},
   "cell_type": "markdown",
   "metadata": {},
   "source": [
    "### Delete Objects\n",
    "you can delete objects by using the del keyword:\n"
   ]
  },
  {
   "cell_type": "code",
   "execution_count": 26,
   "metadata": {},
   "outputs": [
    {
     "ename": "NameError",
     "evalue": "name 'p1' is not defined",
     "output_type": "error",
     "traceback": [
      "\u001b[0;31m---------------------------------------------------------------------------\u001b[0m",
      "\u001b[0;31mNameError\u001b[0m                                 Traceback (most recent call last)",
      "Cell \u001b[0;32mIn[26], line 11\u001b[0m\n\u001b[1;32m      9\u001b[0m p1\u001b[39m=\u001b[39mPerson(\u001b[39m\"\u001b[39m\u001b[39mJohn\u001b[39m\u001b[39m\"\u001b[39m,\u001b[39m25\u001b[39m)\n\u001b[1;32m     10\u001b[0m \u001b[39mdel\u001b[39;00m p1\n\u001b[0;32m---> 11\u001b[0m \u001b[39mprint\u001b[39m(p1)\n",
      "\u001b[0;31mNameError\u001b[0m: name 'p1' is not defined"
     ]
    }
   ],
   "source": [
    "# delete the p1 object\\\n",
    "class Person:\n",
    "    def __init__(self,name,age):\n",
    "        self.name=name\n",
    "        self.age=age\n",
    "    def myfun(self):\n",
    "        print(\"hello my name is \"+self.name)\n",
    "\n",
    "p1=Person(\"John\",25)\n",
    "del p1\n",
    "print(p1)"
   ]
  },
  {
   "attachments": {},
   "cell_type": "markdown",
   "metadata": {},
   "source": [
    "### The pass Statement\n",
    "`class` definations cannot be empty ,but if you for some reason have a class defination with no content ,put in the `pass` statement to avoid getting error."
   ]
  },
  {
   "cell_type": "code",
   "execution_count": 27,
   "metadata": {},
   "outputs": [
    {
     "ename": "SyntaxError",
     "evalue": "incomplete input (3523702532.py, line 1)",
     "output_type": "error",
     "traceback": [
      "\u001b[0;36m  Cell \u001b[0;32mIn[27], line 1\u001b[0;36m\u001b[0m\n\u001b[0;31m    class Person:\u001b[0m\n\u001b[0m                 ^\u001b[0m\n\u001b[0;31mSyntaxError\u001b[0m\u001b[0;31m:\u001b[0m incomplete input\n"
     ]
    }
   ],
   "source": [
    "class Person:"
   ]
  },
  {
   "cell_type": "code",
   "execution_count": 28,
   "metadata": {},
   "outputs": [],
   "source": [
    "# with pass statement:\n",
    "class Person:\n",
    "    pass"
   ]
  },
  {
   "cell_type": "code",
   "execution_count": null,
   "metadata": {},
   "outputs": [],
   "source": []
  }
 ],
 "metadata": {
  "kernelspec": {
   "display_name": ".venv",
   "language": "python",
   "name": "python3"
  },
  "language_info": {
   "codemirror_mode": {
    "name": "ipython",
    "version": 3
   },
   "file_extension": ".py",
   "mimetype": "text/x-python",
   "name": "python",
   "nbconvert_exporter": "python",
   "pygments_lexer": "ipython3",
   "version": "3.10.6"
  },
  "orig_nbformat": 4
 },
 "nbformat": 4,
 "nbformat_minor": 2
}
